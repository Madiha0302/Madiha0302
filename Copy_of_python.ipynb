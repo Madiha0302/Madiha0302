{
  "nbformat": 4,
  "nbformat_minor": 0,
  "metadata": {
    "colab": {
      "provenance": [],
      "include_colab_link": true
    },
    "kernelspec": {
      "name": "python3",
      "display_name": "Python 3"
    },
    "language_info": {
      "name": "python"
    }
  },
  "cells": [
    {
      "cell_type": "markdown",
      "metadata": {
        "id": "view-in-github",
        "colab_type": "text"
      },
      "source": [
        "<a href=\"https://colab.research.google.com/github/Madiha0302/Madiha0302/blob/main/Copy_of_python.ipynb\" target=\"_parent\"><img src=\"https://colab.research.google.com/assets/colab-badge.svg\" alt=\"Open In Colab\"/></a>"
      ]
    },
    {
      "cell_type": "markdown",
      "source": [
        "## **Class 1 Coding**\n",
        "\n",
        "\n",
        "\n"
      ],
      "metadata": {
        "id": "uXVWBNEDXoRZ"
      }
    },
    {
      "cell_type": "code",
      "source": [
        "print(\"Hello World\")\n"
      ],
      "metadata": {
        "colab": {
          "base_uri": "https://localhost:8080/"
        },
        "id": "e3wiVctEYJgH",
        "outputId": "dc719e67-894b-448d-d2a8-1f0607d743e2"
      },
      "execution_count": null,
      "outputs": [
        {
          "output_type": "stream",
          "name": "stdout",
          "text": [
            "Hello World\n"
          ]
        }
      ]
    },
    {
      "cell_type": "code",
      "source": [
        "print(\"Hi Zayan\")"
      ],
      "metadata": {
        "colab": {
          "base_uri": "https://localhost:8080/"
        },
        "id": "8wwxV8BkYdx6",
        "outputId": "d3357264-eb93-4c03-ce31-84014309ffee"
      },
      "execution_count": null,
      "outputs": [
        {
          "output_type": "stream",
          "name": "stdout",
          "text": [
            "Hi Zayan\n"
          ]
        }
      ]
    },
    {
      "cell_type": "code",
      "source": [
        "print(\"Hi Minal\")"
      ],
      "metadata": {
        "colab": {
          "base_uri": "https://localhost:8080/"
        },
        "id": "_vQ2lU_jY5NR",
        "outputId": "b6289750-e917-494e-9638-06205684b07f"
      },
      "execution_count": null,
      "outputs": [
        {
          "output_type": "stream",
          "name": "stdout",
          "text": [
            "Hi Minal\n"
          ]
        }
      ]
    },
    {
      "cell_type": "code",
      "source": [],
      "metadata": {
        "id": "zvDU7F4QZnSr"
      },
      "execution_count": null,
      "outputs": []
    },
    {
      "cell_type": "markdown",
      "source": [
        "# **Class 2 :Here we will learn to Overwrite**"
      ],
      "metadata": {
        "id": "s5rl_IU1Zp4s"
      }
    },
    {
      "cell_type": "code",
      "source": [
        "crname=\"Ariz\""
      ],
      "metadata": {
        "id": "fGVofapda8_I"
      },
      "execution_count": null,
      "outputs": []
    },
    {
      "cell_type": "code",
      "source": [
        "print(crname)"
      ],
      "metadata": {
        "colab": {
          "base_uri": "https://localhost:8080/"
        },
        "id": "A-NCSkenbkMt",
        "outputId": "2f58ed5f-af31-4ffa-c3e1-22662adba376"
      },
      "execution_count": null,
      "outputs": [
        {
          "output_type": "stream",
          "name": "stdout",
          "text": [
            "Ariz\n"
          ]
        }
      ]
    },
    {
      "cell_type": "markdown",
      "source": [
        "**Overwrite**"
      ],
      "metadata": {
        "id": "X9R-vlfub28-"
      }
    },
    {
      "cell_type": "code",
      "source": [
        "crname=\"M Ayaz\"\n",
        "print(crname)"
      ],
      "metadata": {
        "colab": {
          "base_uri": "https://localhost:8080/"
        },
        "id": "W3lOH5P3cHNK",
        "outputId": "21a45eee-6517-49c8-dfb2-11a8f85ffa00"
      },
      "execution_count": null,
      "outputs": [
        {
          "output_type": "stream",
          "name": "stdout",
          "text": [
            "M Ayaz\n"
          ]
        }
      ]
    },
    {
      "cell_type": "markdown",
      "source": [],
      "metadata": {
        "id": "AxvFc4A_b0Ff"
      }
    },
    {
      "cell_type": "markdown",
      "source": [
        "# **Variable Data Types**\n",
        "\n"
      ],
      "metadata": {
        "id": "SJEkrJ1sdU2a"
      }
    },
    {
      "cell_type": "markdown",
      "source": [
        "## ***Text = String***\n",
        "## ***Numbers = Integers***\n",
        "## ***True/Faise = Boolion***\n"
      ],
      "metadata": {
        "id": "8KXl3RujeF6G"
      }
    },
    {
      "cell_type": "markdown",
      "source": [
        "## First, we will use strings here"
      ],
      "metadata": {
        "id": "MZxY_AjfqGCd"
      }
    },
    {
      "cell_type": "code",
      "source": [
        "uname:str=\"Dear Aizal\"\n",
        "print(uname)\n"
      ],
      "metadata": {
        "colab": {
          "base_uri": "https://localhost:8080/"
        },
        "id": "jk8QO7h9rrXS",
        "outputId": "f64230c4-1264-4025-8203-b20346adf777"
      },
      "execution_count": null,
      "outputs": [
        {
          "output_type": "stream",
          "name": "stdout",
          "text": [
            "Dear Aizal\n"
          ]
        }
      ]
    },
    {
      "cell_type": "code",
      "source": [],
      "metadata": {
        "id": "vnh-ggqTrbxA"
      },
      "execution_count": null,
      "outputs": []
    },
    {
      "cell_type": "markdown",
      "source": [
        "## Overwrite"
      ],
      "metadata": {
        "id": "_TdZ2Gzjsa1U"
      }
    },
    {
      "cell_type": "code",
      "source": [
        "uname=\"Sir Aneeq\"\n",
        "print(uname)"
      ],
      "metadata": {
        "colab": {
          "base_uri": "https://localhost:8080/"
        },
        "id": "BHZEQ1oqsfTE",
        "outputId": "2c378ca7-a776-4d66-dbee-5f27ef32e4e8"
      },
      "execution_count": null,
      "outputs": [
        {
          "output_type": "stream",
          "name": "stdout",
          "text": [
            "Sir Aneeq\n"
          ]
        }
      ]
    },
    {
      "cell_type": "markdown",
      "source": [
        "# Now, I will use integers here"
      ],
      "metadata": {
        "id": "qTmeCEZYtNeu"
      }
    },
    {
      "cell_type": "code",
      "source": [
        "marks:int=80\n",
        "print(marks)"
      ],
      "metadata": {
        "colab": {
          "base_uri": "https://localhost:8080/"
        },
        "id": "FVKx3FyBtZPT",
        "outputId": "4fb5b78c-8005-465b-d0b5-ce21cf13c52e"
      },
      "execution_count": null,
      "outputs": [
        {
          "output_type": "stream",
          "name": "stdout",
          "text": [
            "80\n"
          ]
        }
      ]
    },
    {
      "cell_type": "code",
      "source": [
        "age=15\n",
        "print(age)"
      ],
      "metadata": {
        "colab": {
          "base_uri": "https://localhost:8080/"
        },
        "id": "Vz06dqN4t9-w",
        "outputId": "4b02c359-a263-4af9-a667-6d73f462c1bd"
      },
      "execution_count": null,
      "outputs": [
        {
          "output_type": "stream",
          "name": "stdout",
          "text": [
            "15\n"
          ]
        }
      ]
    },
    {
      "cell_type": "code",
      "source": [
        "me=15\n",
        "print(me)"
      ],
      "metadata": {
        "colab": {
          "base_uri": "https://localhost:8080/"
        },
        "id": "LhW51GLruLNC",
        "outputId": "0681029a-d939-4aaf-dd45-e1f6586c704c"
      },
      "execution_count": null,
      "outputs": [
        {
          "output_type": "stream",
          "name": "stdout",
          "text": [
            "15\n"
          ]
        }
      ]
    },
    {
      "cell_type": "markdown",
      "source": [
        "# Boolion"
      ],
      "metadata": {
        "id": "ymQteiXfuyFP"
      }
    },
    {
      "cell_type": "code",
      "source": [
        "allowed:bool=True\n",
        "print(allowed)"
      ],
      "metadata": {
        "colab": {
          "base_uri": "https://localhost:8080/"
        },
        "id": "K5b5x8_2u6jY",
        "outputId": "5f81984d-7d32-4b99-9033-3ff413e37c5c"
      },
      "execution_count": null,
      "outputs": [
        {
          "output_type": "stream",
          "name": "stdout",
          "text": [
            "True\n"
          ]
        }
      ]
    },
    {
      "cell_type": "code",
      "source": [
        "allowed=False\n",
        "print(allowed)"
      ],
      "metadata": {
        "colab": {
          "base_uri": "https://localhost:8080/"
        },
        "id": "PFcxL47ovkiT",
        "outputId": "b3f94cf4-2f0a-4b70-f4ee-16c06eff7edd"
      },
      "execution_count": null,
      "outputs": [
        {
          "output_type": "stream",
          "name": "stdout",
          "text": [
            "False\n"
          ]
        }
      ]
    },
    {
      "cell_type": "markdown",
      "source": [
        "# **Class 3:**Here we will read the types of Operators/0perand"
      ],
      "metadata": {
        "id": "WhQsV4Dav4aU"
      }
    },
    {
      "cell_type": "markdown",
      "source": [
        "\n",
        "\n",
        "1.   **Arithmetic Operator**\n",
        "2.   **Assignment Operator**\n",
        "3.   **Comparison Operator**\n",
        "4.   **Logical Operator**"
      ],
      "metadata": {
        "id": "VVnoBesa7PsD"
      }
    },
    {
      "cell_type": "markdown",
      "source": [
        "# 1.  Arithmetic Operators (+,-,/,*)"
      ],
      "metadata": {
        "id": "dLtNPhM68Hl-"
      }
    },
    {
      "cell_type": "markdown",
      "source": [
        "\n",
        "\n",
        "*   **Addition** (+)\n",
        "\n"
      ],
      "metadata": {
        "id": "0uRGH-Uy8r0L"
      }
    },
    {
      "cell_type": "code",
      "source": [
        "print(7+5)"
      ],
      "metadata": {
        "colab": {
          "base_uri": "https://localhost:8080/"
        },
        "id": "lCSDatYy0Gas",
        "outputId": "277dee18-3572-4fd5-9450-2a0b3bb4c208"
      },
      "execution_count": null,
      "outputs": [
        {
          "output_type": "stream",
          "name": "stdout",
          "text": [
            "12\n"
          ]
        }
      ]
    },
    {
      "cell_type": "code",
      "source": [
        "print(6+9)"
      ],
      "metadata": {
        "colab": {
          "base_uri": "https://localhost:8080/"
        },
        "id": "zuiXr8sX02VC",
        "outputId": "079db6eb-1ab7-4a41-e1cc-e11c2995df89"
      },
      "execution_count": null,
      "outputs": [
        {
          "output_type": "stream",
          "name": "stdout",
          "text": [
            "15\n"
          ]
        }
      ]
    },
    {
      "cell_type": "code",
      "source": [
        "num1:int=5\n",
        "num2:int=5\n",
        "sum:int=num1+num2\n",
        "print(sum)"
      ],
      "metadata": {
        "colab": {
          "base_uri": "https://localhost:8080/"
        },
        "id": "BpHlM6q81f9L",
        "outputId": "14f3b486-bd61-488e-d6e9-229ef1a4d586"
      },
      "execution_count": null,
      "outputs": [
        {
          "output_type": "stream",
          "name": "stdout",
          "text": [
            "10\n"
          ]
        }
      ]
    },
    {
      "cell_type": "markdown",
      "source": [
        "\n",
        "\n",
        "*   ***Subtraction*** (-)\n",
        "\n"
      ],
      "metadata": {
        "id": "X0LTu-Vq9FSI"
      }
    },
    {
      "cell_type": "code",
      "source": [
        "print(10-5)"
      ],
      "metadata": {
        "colab": {
          "base_uri": "https://localhost:8080/"
        },
        "id": "Bv1RtXQH9Sym",
        "outputId": "6805c920-aa51-42f7-c22a-9eb0fe240db6"
      },
      "execution_count": null,
      "outputs": [
        {
          "output_type": "stream",
          "name": "stdout",
          "text": [
            "5\n"
          ]
        }
      ]
    },
    {
      "cell_type": "code",
      "source": [
        "num1:int=10\n",
        "num2:int=9\n",
        "sub:int=num1-num2\n",
        "print(sub)"
      ],
      "metadata": {
        "colab": {
          "base_uri": "https://localhost:8080/"
        },
        "id": "DpbwdfEa9tH3",
        "outputId": "e75aebd8-5b91-481f-987a-1356cf498cb5"
      },
      "execution_count": null,
      "outputs": [
        {
          "output_type": "stream",
          "name": "stdout",
          "text": [
            "1\n"
          ]
        }
      ]
    },
    {
      "cell_type": "markdown",
      "source": [
        "\n",
        "\n",
        "*   **Division** (/)\n",
        "\n"
      ],
      "metadata": {
        "id": "1IkDdrM_-fBv"
      }
    },
    {
      "cell_type": "code",
      "source": [
        "print(25/5)"
      ],
      "metadata": {
        "colab": {
          "base_uri": "https://localhost:8080/"
        },
        "id": "Ta5nDELB-4gn",
        "outputId": "5c926e2b-fb0f-43c4-e021-06d88a388587"
      },
      "execution_count": null,
      "outputs": [
        {
          "output_type": "stream",
          "name": "stdout",
          "text": [
            "5.0\n"
          ]
        }
      ]
    },
    {
      "cell_type": "code",
      "source": [
        "num1:int=99\n",
        "num2:int=9\n",
        "div:int=num1/num2\n",
        "print(div)"
      ],
      "metadata": {
        "colab": {
          "base_uri": "https://localhost:8080/"
        },
        "id": "Pr4A2rSu6X7i",
        "outputId": "63d30de4-c041-4f66-ee0a-2a48ee0547dc"
      },
      "execution_count": null,
      "outputs": [
        {
          "output_type": "stream",
          "name": "stdout",
          "text": [
            "11.0\n"
          ]
        }
      ]
    },
    {
      "cell_type": "markdown",
      "source": [
        "\n",
        "\n",
        "*   **Multiplication** (*)\n",
        "\n"
      ],
      "metadata": {
        "id": "hBAFWUl0_4Zs"
      }
    },
    {
      "cell_type": "code",
      "source": [
        "print(5*7)"
      ],
      "metadata": {
        "colab": {
          "base_uri": "https://localhost:8080/"
        },
        "id": "M4OVkGiw_MjI",
        "outputId": "386b7f65-eca3-4078-8799-011d1b1f32dc"
      },
      "execution_count": null,
      "outputs": [
        {
          "output_type": "stream",
          "name": "stdout",
          "text": [
            "35\n"
          ]
        }
      ]
    },
    {
      "cell_type": "code",
      "source": [
        "num1:int=2\n",
        "num2:int=6\n",
        "mul:int=num1*num2\n",
        "print(mul)"
      ],
      "metadata": {
        "colab": {
          "base_uri": "https://localhost:8080/"
        },
        "id": "pFwW8kMGAOQd",
        "outputId": "bc81fa69-1f72-4a9e-d5c2-dc4d1e355edd"
      },
      "execution_count": null,
      "outputs": [
        {
          "output_type": "stream",
          "name": "stdout",
          "text": [
            "12\n"
          ]
        }
      ]
    },
    {
      "cell_type": "markdown",
      "source": [
        "\n",
        "#  Double Multiplication (**) exponent x^y\n",
        "\n"
      ],
      "metadata": {
        "id": "X749vdGYAv1i"
      }
    },
    {
      "cell_type": "code",
      "source": [
        "print(8**2)"
      ],
      "metadata": {
        "colab": {
          "base_uri": "https://localhost:8080/"
        },
        "id": "0_DqzTB_AnBT",
        "outputId": "680b1c98-c366-4197-c5e3-9338a9799be7"
      },
      "execution_count": null,
      "outputs": [
        {
          "output_type": "stream",
          "name": "stdout",
          "text": [
            "64\n"
          ]
        }
      ]
    },
    {
      "cell_type": "code",
      "source": [
        "num1:int=4\n",
        "num2:int=2\n",
        "mul:int=num1**num2\n",
        "print(mul)"
      ],
      "metadata": {
        "colab": {
          "base_uri": "https://localhost:8080/"
        },
        "id": "idGj2UDSDRE2",
        "outputId": "2aaa5564-34b1-4124-8d8a-42c972483691"
      },
      "execution_count": null,
      "outputs": [
        {
          "output_type": "stream",
          "name": "stdout",
          "text": [
            "16\n"
          ]
        }
      ]
    },
    {
      "cell_type": "markdown",
      "source": [],
      "metadata": {
        "id": "Qc_FngjiD6iu"
      }
    },
    {
      "cell_type": "markdown",
      "source": [
        "## **Floor Division (//) value roundoff**"
      ],
      "metadata": {
        "id": "lt_1vsujD6np"
      }
    },
    {
      "cell_type": "code",
      "source": [
        "print(4//4)"
      ],
      "metadata": {
        "colab": {
          "base_uri": "https://localhost:8080/"
        },
        "id": "W-Xlt0zmENrG",
        "outputId": "1a6ca10d-6293-4545-81ac-3467d79872dc"
      },
      "execution_count": null,
      "outputs": [
        {
          "output_type": "stream",
          "name": "stdout",
          "text": [
            "1\n"
          ]
        }
      ]
    },
    {
      "cell_type": "code",
      "source": [
        "num1:int=12\n",
        "num2:int=5\n",
        "div:int=num1//num2\n",
        "print(div)"
      ],
      "metadata": {
        "colab": {
          "base_uri": "https://localhost:8080/"
        },
        "id": "iftSiEjhDlxk",
        "outputId": "a90518bf-4822-48c8-e548-3b610c9e2632"
      },
      "execution_count": null,
      "outputs": [
        {
          "output_type": "stream",
          "name": "stdout",
          "text": [
            "2\n"
          ]
        }
      ]
    },
    {
      "cell_type": "markdown",
      "source": [
        "\n",
        "*  **Modulas (Reminder)** (%)\n",
        "\n"
      ],
      "metadata": {
        "id": "aj62u5KoE5GI"
      }
    },
    {
      "cell_type": "code",
      "source": [
        "print(11%2)"
      ],
      "metadata": {
        "colab": {
          "base_uri": "https://localhost:8080/"
        },
        "id": "cghbIQkREzY9",
        "outputId": "cae73e62-9d35-496b-d756-1df509a4a8a3"
      },
      "execution_count": null,
      "outputs": [
        {
          "output_type": "stream",
          "name": "stdout",
          "text": [
            "1\n"
          ]
        }
      ]
    },
    {
      "cell_type": "code",
      "source": [
        "num1:int=7\n",
        "num2:int=3\n",
        "mod:int=num1%num2\n",
        "print(mod)"
      ],
      "metadata": {
        "colab": {
          "base_uri": "https://localhost:8080/"
        },
        "id": "qVnIYAd-Fznl",
        "outputId": "82c06ee0-77b5-48b2-ef92-f17a1934af41"
      },
      "execution_count": null,
      "outputs": [
        {
          "output_type": "stream",
          "name": "stdout",
          "text": [
            "1\n"
          ]
        }
      ]
    },
    {
      "cell_type": "markdown",
      "source": [
        "# 2.  **Assignment Operators** (=)  "
      ],
      "metadata": {
        "id": "jfYLYTia07_-"
      }
    },
    {
      "cell_type": "markdown",
      "source": [
        "X = 5  \n",
        "( Veriable = Value )"
      ],
      "metadata": {
        "id": "lpnWnhEW2Afq"
      }
    },
    {
      "cell_type": "code",
      "source": [
        "x:int=10\n",
        "# 10 + 5 = 15\n",
        "x=x+5\n",
        "print(x)"
      ],
      "metadata": {
        "colab": {
          "base_uri": "https://localhost:8080/"
        },
        "id": "4OUiNrId26OF",
        "outputId": "eb069fd6-dd81-47cf-ed01-0f645d9aea92"
      },
      "execution_count": null,
      "outputs": [
        {
          "output_type": "stream",
          "name": "stdout",
          "text": [
            "15\n"
          ]
        }
      ]
    },
    {
      "cell_type": "code",
      "source": [
        "# here, I will overwrite\n",
        "# x:int=15\n",
        "# x=x%3\n",
        "x=15%3\n",
        "print(x)"
      ],
      "metadata": {
        "colab": {
          "base_uri": "https://localhost:8080/"
        },
        "id": "wlquRy241i2z",
        "outputId": "961688a1-3b07-46ab-c069-7b86f7d88053"
      },
      "execution_count": null,
      "outputs": [
        {
          "output_type": "stream",
          "name": "stdout",
          "text": [
            "0\n"
          ]
        }
      ]
    },
    {
      "cell_type": "markdown",
      "source": [
        "# **3.  Comparision Operators**\n",
        "\n",
        "\n",
        "1.   (==) Equal to\n",
        "2.   (>) Greater than\n",
        "3.   (<) Less than\n",
        "4.   (>=) Greater than or Equal to\n",
        "5.   (<=) Less than or Equal to\n",
        "6.   (!=) not Equal to\n",
        "\n"
      ],
      "metadata": {
        "id": "JX5LyrjP3N5N"
      }
    },
    {
      "cell_type": "code",
      "source": [
        "# Comoarison Operators give out put in boolion\n",
        "num1:int=10\n",
        "num2:int=10\n",
        "print(num1==num2)"
      ],
      "metadata": {
        "colab": {
          "base_uri": "https://localhost:8080/"
        },
        "id": "sdZUzx5B513D",
        "outputId": "91536a45-d09e-4445-d06f-9e15158b8c32"
      },
      "execution_count": null,
      "outputs": [
        {
          "output_type": "stream",
          "name": "stdout",
          "text": [
            "True\n"
          ]
        }
      ]
    },
    {
      "cell_type": "code",
      "source": [
        "num=10\n",
        "num2=20\n",
        "print(num2>num1)\n",
        "print(num2<num1)\n"
      ],
      "metadata": {
        "colab": {
          "base_uri": "https://localhost:8080/"
        },
        "id": "mYWM1MSb6vDf",
        "outputId": "f2c0839c-8c06-47c0-ee20-0a429eb2ecd0"
      },
      "execution_count": null,
      "outputs": [
        {
          "output_type": "stream",
          "name": "stdout",
          "text": [
            "True\n",
            "False\n"
          ]
        }
      ]
    },
    {
      "cell_type": "code",
      "source": [
        "num1=10\n",
        "num2=10\n",
        "print(num1!=num2)"
      ],
      "metadata": {
        "colab": {
          "base_uri": "https://localhost:8080/"
        },
        "id": "0qV-8tfV7RVy",
        "outputId": "746c5ae7-9d7e-48cd-ea30-eaf6dc4667d0"
      },
      "execution_count": null,
      "outputs": [
        {
          "output_type": "stream",
          "name": "stdout",
          "text": [
            "False\n"
          ]
        }
      ]
    },
    {
      "cell_type": "markdown",
      "source": [
        "# **Class 4**"
      ],
      "metadata": {
        "id": "PpcBPP0xur-Y"
      }
    },
    {
      "cell_type": "markdown",
      "source": [
        "# 4.  **Logical Operators** (and,or,not)"
      ],
      "metadata": {
        "id": "XItrgad_7n56"
      }
    },
    {
      "cell_type": "markdown",
      "source": [
        "# **and**\n",
        "**(all conditions should be true )**"
      ],
      "metadata": {
        "id": "2pr8C2Ty8kvI"
      }
    },
    {
      "cell_type": "code",
      "source": [
        "num1:int=20\n",
        "num2:int=11\n",
        "print(num1>10 and num1<30)"
      ],
      "metadata": {
        "colab": {
          "base_uri": "https://localhost:8080/"
        },
        "id": "sv-g1Dv79WtH",
        "outputId": "a2544da7-7849-47e0-883e-7e363a047c91"
      },
      "execution_count": null,
      "outputs": [
        {
          "output_type": "stream",
          "name": "stdout",
          "text": [
            "True\n"
          ]
        }
      ]
    },
    {
      "cell_type": "code",
      "source": [
        "num1=40\n",
        "print(num1>10)\n",
        "print(num1>20)\n",
        "print(num1<30)\n",
        "(print(num1>10 and num1>20 and num1<30))\n"
      ],
      "metadata": {
        "colab": {
          "base_uri": "https://localhost:8080/"
        },
        "id": "sk3nQ1Pw9_s0",
        "outputId": "98d1087e-40fa-4569-9705-a1cd01223e1d"
      },
      "execution_count": null,
      "outputs": [
        {
          "output_type": "stream",
          "name": "stdout",
          "text": [
            "True\n",
            "True\n",
            "False\n",
            "False\n"
          ]
        }
      ]
    },
    {
      "cell_type": "markdown",
      "source": [
        "# or\n",
        "**( any one condition should be true )**\n"
      ],
      "metadata": {
        "id": "Bfd0Qggy_rmO"
      }
    },
    {
      "cell_type": "code",
      "source": [
        "num1:int=40\n",
        "print(num1>10 or num1<40)"
      ],
      "metadata": {
        "colab": {
          "base_uri": "https://localhost:8080/"
        },
        "id": "UzxYjF1DkWMu",
        "outputId": "d765f442-d1d1-44c6-e17d-bd4a3238c143"
      },
      "execution_count": null,
      "outputs": [
        {
          "output_type": "stream",
          "name": "stdout",
          "text": [
            "True\n"
          ]
        }
      ]
    },
    {
      "cell_type": "code",
      "source": [
        "num1=56\n",
        "num2=30\n",
        "print(num2==num1 or num1<num2)"
      ],
      "metadata": {
        "colab": {
          "base_uri": "https://localhost:8080/"
        },
        "id": "A8rivu9vkpyP",
        "outputId": "ee4018e7-999c-4fa4-f03e-f58bc7071064"
      },
      "execution_count": null,
      "outputs": [
        {
          "output_type": "stream",
          "name": "stdout",
          "text": [
            "False\n"
          ]
        }
      ]
    },
    {
      "cell_type": "code",
      "source": [
        "print(num1>=num2 or num2==num1)"
      ],
      "metadata": {
        "colab": {
          "base_uri": "https://localhost:8080/"
        },
        "id": "AV3z1VxivOoC",
        "outputId": "7e0fde51-4626-40e1-81d1-43cc56727883"
      },
      "execution_count": null,
      "outputs": [
        {
          "output_type": "stream",
          "name": "stdout",
          "text": [
            "True\n"
          ]
        }
      ]
    },
    {
      "cell_type": "markdown",
      "source": [
        "# **not**\n",
        "# in this we falsify the condition"
      ],
      "metadata": {
        "id": "vZIa7087vmB-"
      }
    },
    {
      "cell_type": "code",
      "source": [
        "num1:int=4\n",
        "num2:int=10\n",
        "print(not(num1<num2))"
      ],
      "metadata": {
        "colab": {
          "base_uri": "https://localhost:8080/"
        },
        "id": "9AzkmgUDwORZ",
        "outputId": "746ffc38-9642-4269-f278-ae178dcafb9b"
      },
      "execution_count": null,
      "outputs": [
        {
          "output_type": "stream",
          "name": "stdout",
          "text": [
            "False\n"
          ]
        }
      ]
    },
    {
      "cell_type": "code",
      "source": [
        "print(not(num2==num1))"
      ],
      "metadata": {
        "colab": {
          "base_uri": "https://localhost:8080/"
        },
        "id": "qM1qWCrwwgjK",
        "outputId": "9c2dd1c8-448f-4a96-c351-eb7cabcd06bd"
      },
      "execution_count": null,
      "outputs": [
        {
          "output_type": "stream",
          "name": "stdout",
          "text": [
            "True\n"
          ]
        }
      ]
    },
    {
      "cell_type": "code",
      "source": [],
      "metadata": {
        "id": "p1vzsH6xwqTq"
      },
      "execution_count": null,
      "outputs": []
    },
    {
      "cell_type": "markdown",
      "source": [
        "* ## **Assignment Class 4**\n",
        "\n",
        "\n"
      ],
      "metadata": {
        "id": "exDbUvHUxd8U"
      }
    },
    {
      "cell_type": "code",
      "source": [
        "electric:bool=\"electric\"\n",
        "ups:bool=\"ups\"\n",
        "print(electric==ups and ups==electric)"
      ],
      "metadata": {
        "colab": {
          "base_uri": "https://localhost:8080/"
        },
        "id": "b5l6WnEOxuBR",
        "outputId": "d617f6ad-d84f-443f-a55a-debe9b5b2fff"
      },
      "execution_count": null,
      "outputs": [
        {
          "output_type": "stream",
          "name": "stdout",
          "text": [
            "False\n"
          ]
        }
      ]
    },
    {
      "cell_type": "code",
      "source": [
        "print(electric!=ups or ups==electric)"
      ],
      "metadata": {
        "colab": {
          "base_uri": "https://localhost:8080/"
        },
        "id": "4j2PGqik6bJo",
        "outputId": "b2eb7097-9c69-4d8c-fcc5-cade12da85cd"
      },
      "execution_count": null,
      "outputs": [
        {
          "output_type": "stream",
          "name": "stdout",
          "text": [
            "True\n"
          ]
        }
      ]
    },
    {
      "cell_type": "markdown",
      "source": [
        "# **If , else**\n",
        "\n",
        "# If ( all condition should be true )"
      ],
      "metadata": {
        "id": "gcSMn4xJ1xac"
      }
    },
    {
      "cell_type": "code",
      "source": [
        "\n",
        "if 2>1:\n",
        "    print(\"hello\")\n"
      ],
      "metadata": {
        "colab": {
          "base_uri": "https://localhost:8080/"
        },
        "id": "MuJijJz12WAn",
        "outputId": "3cb9580a-d117-4c70-9637-0c4fa7257bd4"
      },
      "execution_count": null,
      "outputs": [
        {
          "output_type": "stream",
          "name": "stdout",
          "text": [
            "hello\n"
          ]
        }
      ]
    },
    {
      "cell_type": "code",
      "source": [
        "num1 = 2\n",
        "if num1<3:\n",
        "  print(\"hi sir\")"
      ],
      "metadata": {
        "colab": {
          "base_uri": "https://localhost:8080/"
        },
        "id": "tw9f0goN2w_i",
        "outputId": "4c3184c6-f5c7-47a0-c84c-1ad40bec2020"
      },
      "execution_count": null,
      "outputs": [
        {
          "output_type": "stream",
          "name": "stdout",
          "text": [
            "hi sir\n"
          ]
        }
      ]
    },
    {
      "cell_type": "code",
      "source": [],
      "metadata": {
        "id": "do4AeTpk4zcZ"
      },
      "execution_count": null,
      "outputs": []
    }
  ]
}